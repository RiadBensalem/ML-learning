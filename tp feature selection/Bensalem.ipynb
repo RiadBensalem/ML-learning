{
 "cells": [
  {
   "cell_type": "code",
   "execution_count": 1,
   "metadata": {},
   "outputs": [],
   "source": [
    "import numpy as np\n",
    "import matplotlib.pyplot as plt\n",
    "import pandas as pd"
   ]
  },
  {
   "cell_type": "code",
   "execution_count": 2,
   "metadata": {},
   "outputs": [
    {
     "data": {
      "text/html": [
       "<div>\n",
       "<style scoped>\n",
       "    .dataframe tbody tr th:only-of-type {\n",
       "        vertical-align: middle;\n",
       "    }\n",
       "\n",
       "    .dataframe tbody tr th {\n",
       "        vertical-align: top;\n",
       "    }\n",
       "\n",
       "    .dataframe thead th {\n",
       "        text-align: right;\n",
       "    }\n",
       "</style>\n",
       "<table border=\"1\" class=\"dataframe\">\n",
       "  <thead>\n",
       "    <tr style=\"text-align: right;\">\n",
       "      <th></th>\n",
       "      <th>cn</th>\n",
       "      <th>hndcpInfnt</th>\n",
       "      <th>wpcs</th>\n",
       "      <th>abr</th>\n",
       "      <th>phff</th>\n",
       "      <th>esa</th>\n",
       "      <th>rgschool</th>\n",
       "      <th>antiSatBan</th>\n",
       "      <th>anc</th>\n",
       "      <th>mxMissl</th>\n",
       "      <th>immgr</th>\n",
       "      <th>scc</th>\n",
       "      <th>eduspen</th>\n",
       "      <th>supRS</th>\n",
       "      <th>crime</th>\n",
       "      <th>duty</th>\n",
       "      <th>export</th>\n",
       "    </tr>\n",
       "  </thead>\n",
       "  <tbody>\n",
       "    <tr>\n",
       "      <th>count</th>\n",
       "      <td>435</td>\n",
       "      <td>435</td>\n",
       "      <td>435</td>\n",
       "      <td>435</td>\n",
       "      <td>435</td>\n",
       "      <td>435</td>\n",
       "      <td>435</td>\n",
       "      <td>435</td>\n",
       "      <td>435</td>\n",
       "      <td>435</td>\n",
       "      <td>435</td>\n",
       "      <td>435</td>\n",
       "      <td>435</td>\n",
       "      <td>435</td>\n",
       "      <td>435</td>\n",
       "      <td>435</td>\n",
       "      <td>435</td>\n",
       "    </tr>\n",
       "    <tr>\n",
       "      <th>unique</th>\n",
       "      <td>2</td>\n",
       "      <td>3</td>\n",
       "      <td>3</td>\n",
       "      <td>3</td>\n",
       "      <td>3</td>\n",
       "      <td>3</td>\n",
       "      <td>3</td>\n",
       "      <td>3</td>\n",
       "      <td>3</td>\n",
       "      <td>3</td>\n",
       "      <td>3</td>\n",
       "      <td>3</td>\n",
       "      <td>3</td>\n",
       "      <td>3</td>\n",
       "      <td>3</td>\n",
       "      <td>3</td>\n",
       "      <td>3</td>\n",
       "    </tr>\n",
       "    <tr>\n",
       "      <th>top</th>\n",
       "      <td>democrat</td>\n",
       "      <td>n</td>\n",
       "      <td>y</td>\n",
       "      <td>y</td>\n",
       "      <td>n</td>\n",
       "      <td>y</td>\n",
       "      <td>y</td>\n",
       "      <td>y</td>\n",
       "      <td>y</td>\n",
       "      <td>y</td>\n",
       "      <td>y</td>\n",
       "      <td>n</td>\n",
       "      <td>n</td>\n",
       "      <td>y</td>\n",
       "      <td>y</td>\n",
       "      <td>n</td>\n",
       "      <td>y</td>\n",
       "    </tr>\n",
       "    <tr>\n",
       "      <th>freq</th>\n",
       "      <td>267</td>\n",
       "      <td>236</td>\n",
       "      <td>195</td>\n",
       "      <td>253</td>\n",
       "      <td>247</td>\n",
       "      <td>212</td>\n",
       "      <td>272</td>\n",
       "      <td>239</td>\n",
       "      <td>242</td>\n",
       "      <td>207</td>\n",
       "      <td>216</td>\n",
       "      <td>264</td>\n",
       "      <td>233</td>\n",
       "      <td>209</td>\n",
       "      <td>248</td>\n",
       "      <td>233</td>\n",
       "      <td>269</td>\n",
       "    </tr>\n",
       "  </tbody>\n",
       "</table>\n",
       "</div>"
      ],
      "text/plain": [
       "              cn hndcpInfnt wpcs  abr phff  esa rgschool antiSatBan  anc  \\\n",
       "count        435        435  435  435  435  435      435        435  435   \n",
       "unique         2          3    3    3    3    3        3          3    3   \n",
       "top     democrat          n    y    y    n    y        y          y    y   \n",
       "freq         267        236  195  253  247  212      272        239  242   \n",
       "\n",
       "       mxMissl immgr  scc eduspen supRS crime duty export  \n",
       "count      435   435  435     435   435   435  435    435  \n",
       "unique       3     3    3       3     3     3    3      3  \n",
       "top          y     y    n       n     y     y    n      y  \n",
       "freq       207   216  264     233   209   248  233    269  "
      ]
     },
     "execution_count": 2,
     "metadata": {},
     "output_type": "execute_result"
    }
   ],
   "source": [
    "header = [\"cn\", \"hndcpInfnt\", \"wpcs\",\"abr\",\"phff\",\"esa\",\"rgschool\",\"antiSatBan\",\"anc\",\"mxMissl\",\"immgr\",\"scc\",\"eduspen\",\"supRS\",\"crime\",\"duty\",\"export\"]\n",
    "votes = pd.read_csv('house-votes-84.data',names=header)\n",
    "votes.head()\n",
    "votes.describe()\n"
   ]
  },
  {
   "cell_type": "code",
   "execution_count": 3,
   "metadata": {},
   "outputs": [
    {
     "data": {
      "text/html": [
       "<div>\n",
       "<style scoped>\n",
       "    .dataframe tbody tr th:only-of-type {\n",
       "        vertical-align: middle;\n",
       "    }\n",
       "\n",
       "    .dataframe tbody tr th {\n",
       "        vertical-align: top;\n",
       "    }\n",
       "\n",
       "    .dataframe thead th {\n",
       "        text-align: right;\n",
       "    }\n",
       "</style>\n",
       "<table border=\"1\" class=\"dataframe\">\n",
       "  <thead>\n",
       "    <tr style=\"text-align: right;\">\n",
       "      <th></th>\n",
       "      <th>cn</th>\n",
       "      <th>hndcpInfnt</th>\n",
       "      <th>wpcs</th>\n",
       "      <th>abr</th>\n",
       "      <th>phff</th>\n",
       "      <th>esa</th>\n",
       "      <th>rgschool</th>\n",
       "      <th>antiSatBan</th>\n",
       "      <th>anc</th>\n",
       "      <th>mxMissl</th>\n",
       "      <th>immgr</th>\n",
       "      <th>scc</th>\n",
       "      <th>eduspen</th>\n",
       "      <th>supRS</th>\n",
       "      <th>crime</th>\n",
       "      <th>duty</th>\n",
       "      <th>export</th>\n",
       "    </tr>\n",
       "  </thead>\n",
       "  <tbody>\n",
       "    <tr>\n",
       "      <th>5</th>\n",
       "      <td>democrat</td>\n",
       "      <td>0</td>\n",
       "      <td>1</td>\n",
       "      <td>1</td>\n",
       "      <td>0</td>\n",
       "      <td>1</td>\n",
       "      <td>1</td>\n",
       "      <td>0</td>\n",
       "      <td>0</td>\n",
       "      <td>0</td>\n",
       "      <td>0</td>\n",
       "      <td>0</td>\n",
       "      <td>0</td>\n",
       "      <td>1</td>\n",
       "      <td>1</td>\n",
       "      <td>1</td>\n",
       "      <td>1</td>\n",
       "    </tr>\n",
       "    <tr>\n",
       "      <th>8</th>\n",
       "      <td>republican</td>\n",
       "      <td>0</td>\n",
       "      <td>1</td>\n",
       "      <td>0</td>\n",
       "      <td>1</td>\n",
       "      <td>1</td>\n",
       "      <td>1</td>\n",
       "      <td>0</td>\n",
       "      <td>0</td>\n",
       "      <td>0</td>\n",
       "      <td>0</td>\n",
       "      <td>0</td>\n",
       "      <td>1</td>\n",
       "      <td>1</td>\n",
       "      <td>1</td>\n",
       "      <td>0</td>\n",
       "      <td>1</td>\n",
       "    </tr>\n",
       "    <tr>\n",
       "      <th>19</th>\n",
       "      <td>democrat</td>\n",
       "      <td>1</td>\n",
       "      <td>1</td>\n",
       "      <td>1</td>\n",
       "      <td>0</td>\n",
       "      <td>0</td>\n",
       "      <td>0</td>\n",
       "      <td>1</td>\n",
       "      <td>1</td>\n",
       "      <td>1</td>\n",
       "      <td>0</td>\n",
       "      <td>1</td>\n",
       "      <td>0</td>\n",
       "      <td>0</td>\n",
       "      <td>0</td>\n",
       "      <td>1</td>\n",
       "      <td>1</td>\n",
       "    </tr>\n",
       "    <tr>\n",
       "      <th>23</th>\n",
       "      <td>democrat</td>\n",
       "      <td>1</td>\n",
       "      <td>1</td>\n",
       "      <td>1</td>\n",
       "      <td>0</td>\n",
       "      <td>0</td>\n",
       "      <td>0</td>\n",
       "      <td>1</td>\n",
       "      <td>1</td>\n",
       "      <td>1</td>\n",
       "      <td>0</td>\n",
       "      <td>0</td>\n",
       "      <td>0</td>\n",
       "      <td>0</td>\n",
       "      <td>0</td>\n",
       "      <td>1</td>\n",
       "      <td>1</td>\n",
       "    </tr>\n",
       "    <tr>\n",
       "      <th>25</th>\n",
       "      <td>democrat</td>\n",
       "      <td>1</td>\n",
       "      <td>0</td>\n",
       "      <td>1</td>\n",
       "      <td>0</td>\n",
       "      <td>0</td>\n",
       "      <td>0</td>\n",
       "      <td>1</td>\n",
       "      <td>1</td>\n",
       "      <td>1</td>\n",
       "      <td>1</td>\n",
       "      <td>0</td>\n",
       "      <td>0</td>\n",
       "      <td>0</td>\n",
       "      <td>0</td>\n",
       "      <td>1</td>\n",
       "      <td>1</td>\n",
       "    </tr>\n",
       "  </tbody>\n",
       "</table>\n",
       "</div>"
      ],
      "text/plain": [
       "            cn  hndcpInfnt  wpcs  abr  phff  esa  rgschool  antiSatBan  anc  \\\n",
       "5     democrat           0     1    1     0    1         1           0    0   \n",
       "8   republican           0     1    0     1    1         1           0    0   \n",
       "19    democrat           1     1    1     0    0         0           1    1   \n",
       "23    democrat           1     1    1     0    0         0           1    1   \n",
       "25    democrat           1     0    1     0    0         0           1    1   \n",
       "\n",
       "    mxMissl  immgr  scc  eduspen  supRS  crime  duty  export  \n",
       "5         0      0    0        0      1      1     1       1  \n",
       "8         0      0    0        1      1      1     0       1  \n",
       "19        1      0    1        0      0      0     1       1  \n",
       "23        1      0    0        0      0      0     1       1  \n",
       "25        1      1    0        0      0      0     1       1  "
      ]
     },
     "execution_count": 3,
     "metadata": {},
     "output_type": "execute_result"
    }
   ],
   "source": [
    "# remove ? and replace y and n\n",
    "for a in header:\n",
    "    votes=votes[votes[a]!='?']\n",
    "\n",
    "votes=votes.replace('y',1)\n",
    "votes=votes.replace('n',0)\n",
    "votes.head()\n"
   ]
  },
  {
   "cell_type": "code",
   "execution_count": 4,
   "metadata": {},
   "outputs": [],
   "source": [
    "from sklearn.model_selection import train_test_split \n",
    "X=votes.values[:,1:16]\n",
    "Y=votes.values[:,0]\n",
    "X_train, X_test, y_train, y_test = train_test_split(X, Y, test_size=0.2, random_state=0) "
   ]
  },
  {
   "cell_type": "code",
   "execution_count": 5,
   "metadata": {},
   "outputs": [
    {
     "name": "stdout",
     "output_type": "stream",
     "text": [
      "Train Accuracy is  99.45945945945947\n",
      "Test Accuracy is  93.61702127659575\n"
     ]
    },
    {
     "name": "stderr",
     "output_type": "stream",
     "text": [
      "C:\\Users\\Ryad\\Anaconda3\\lib\\site-packages\\sklearn\\tree\\tree.py:283: DeprecationWarning: The min_impurity_split parameter is deprecated. Its default value will change from 1e-7 to 0 in version 0.23, and it will be removed in 0.25. Use the min_impurity_decrease parameter instead.\n",
      "  DeprecationWarning)\n"
     ]
    }
   ],
   "source": [
    "from sklearn.linear_model import LogisticRegression\n",
    "from sklearn.metrics import accuracy_score \n",
    "from sklearn.tree import DecisionTreeClassifier\n",
    "\n",
    "#model = LogisticRegression()\n",
    "model=DecisionTreeClassifier(criterion =\"entropy\", max_depth=15 , splitter=\"best\" , min_impurity_split=0.1 )\n",
    "model.fit(X_train, y_train)\n",
    "\n",
    "y_train_pred = model.predict(X_train)\n",
    "h = model.predict(X_test)\n",
    "print(\"Train Accuracy is \", accuracy_score(y_train,y_train_pred)*100)\n",
    "print(\"Test Accuracy is \", accuracy_score(y_test,h)*100)\n"
   ]
  },
  {
   "cell_type": "markdown",
   "metadata": {},
   "source": [
    "# 1.Filter Feature Selection"
   ]
  },
  {
   "cell_type": "markdown",
   "metadata": {},
   "source": [
    "## 1.1. Correlation filtering "
   ]
  },
  {
   "cell_type": "code",
   "execution_count": 8,
   "metadata": {},
   "outputs": [
    {
     "name": "stdout",
     "output_type": "stream",
     "text": [
      "seuil : \n",
      "0.8\n",
      "correlated features :  {'mxMissl'}\n",
      "\n",
      "\n",
      "seuil : \n",
      "0.7000000000000001\n",
      "correlated features :  {'crime', 'eduspen', 'anc', 'mxMissl'}\n",
      "\n",
      "\n",
      "seuil : \n",
      "0.6000000000000001\n",
      "correlated features :  {'crime', 'esa', 'supRS', 'eduspen', 'anc', 'rgschool', 'antiSatBan', 'mxMissl'}\n",
      "\n",
      "\n",
      "seuil : \n",
      "0.5000000000000001\n",
      "correlated features :  {'crime', 'duty', 'esa', 'phff', 'eduspen', 'anc', 'rgschool', 'antiSatBan', 'mxMissl'}\n",
      "\n",
      "\n",
      "seuil : "
     ]
    },
    {
     "name": "stderr",
     "output_type": "stream",
     "text": [
      "C:\\Users\\Ryad\\Anaconda3\\lib\\site-packages\\sklearn\\tree\\tree.py:283: DeprecationWarning: The min_impurity_split parameter is deprecated. Its default value will change from 1e-7 to 0 in version 0.23, and it will be removed in 0.25. Use the min_impurity_decrease parameter instead.\n",
      "  DeprecationWarning)\n",
      "C:\\Users\\Ryad\\Anaconda3\\lib\\site-packages\\sklearn\\tree\\tree.py:283: DeprecationWarning: The min_impurity_split parameter is deprecated. Its default value will change from 1e-7 to 0 in version 0.23, and it will be removed in 0.25. Use the min_impurity_decrease parameter instead.\n",
      "  DeprecationWarning)\n",
      "C:\\Users\\Ryad\\Anaconda3\\lib\\site-packages\\sklearn\\tree\\tree.py:283: DeprecationWarning: The min_impurity_split parameter is deprecated. Its default value will change from 1e-7 to 0 in version 0.23, and it will be removed in 0.25. Use the min_impurity_decrease parameter instead.\n",
      "  DeprecationWarning)\n",
      "C:\\Users\\Ryad\\Anaconda3\\lib\\site-packages\\sklearn\\tree\\tree.py:283: DeprecationWarning: The min_impurity_split parameter is deprecated. Its default value will change from 1e-7 to 0 in version 0.23, and it will be removed in 0.25. Use the min_impurity_decrease parameter instead.\n",
      "  DeprecationWarning)\n"
     ]
    },
    {
     "name": "stdout",
     "output_type": "stream",
     "text": [
      "\n",
      "0.40000000000000013\n",
      "correlated features :  {'crime', 'export', 'duty', 'esa', 'phff', 'supRS', 'anc', 'rgschool', 'antiSatBan', 'mxMissl'}\n",
      "\n",
      "\n",
      "seuil : \n",
      "0.30000000000000016\n",
      "correlated features :  {'crime', 'export', 'duty', 'esa', 'abr', 'phff', 'supRS', 'eduspen', 'rgschool', 'antiSatBan', 'mxMissl'}\n",
      "\n",
      "\n",
      "seuil : \n",
      "0.20000000000000015\n",
      "correlated features :  {'crime', 'export', 'duty', 'esa', 'abr', 'scc', 'phff', 'supRS', 'eduspen', 'anc', 'antiSatBan', 'mxMissl'}\n",
      "\n",
      "\n",
      "les seuils :\n",
      "[0.8, 0.7000000000000001, 0.6000000000000001, 0.5000000000000001, 0.40000000000000013, 0.30000000000000016, 0.20000000000000015]\n",
      "\n",
      "\n",
      "Train Accuracies \n",
      "[0.9945945945945946, 0.9945945945945946, 0.9891891891891892, 0.9081081081081082, 0.8540540540540541, 0.8324324324324325, 0.7243243243243244]\n",
      "\n",
      "\n",
      "Test Accuracies \n",
      "[0.9361702127659575, 0.9361702127659575, 0.9148936170212766, 0.8723404255319149, 0.851063829787234, 0.9148936170212766, 0.8085106382978723]\n"
     ]
    },
    {
     "name": "stderr",
     "output_type": "stream",
     "text": [
      "C:\\Users\\Ryad\\Anaconda3\\lib\\site-packages\\sklearn\\tree\\tree.py:283: DeprecationWarning: The min_impurity_split parameter is deprecated. Its default value will change from 1e-7 to 0 in version 0.23, and it will be removed in 0.25. Use the min_impurity_decrease parameter instead.\n",
      "  DeprecationWarning)\n",
      "C:\\Users\\Ryad\\Anaconda3\\lib\\site-packages\\sklearn\\tree\\tree.py:283: DeprecationWarning: The min_impurity_split parameter is deprecated. Its default value will change from 1e-7 to 0 in version 0.23, and it will be removed in 0.25. Use the min_impurity_decrease parameter instead.\n",
      "  DeprecationWarning)\n",
      "C:\\Users\\Ryad\\Anaconda3\\lib\\site-packages\\sklearn\\tree\\tree.py:283: DeprecationWarning: The min_impurity_split parameter is deprecated. Its default value will change from 1e-7 to 0 in version 0.23, and it will be removed in 0.25. Use the min_impurity_decrease parameter instead.\n",
      "  DeprecationWarning)\n"
     ]
    }
   ],
   "source": [
    "from sklearn.feature_selection import VarianceThreshold\n",
    "\n",
    "\n",
    "correlated_features=set()\n",
    "correlationMatrix=votes.corr()\n",
    "#print(correlation_matrix)\n",
    "listAccTrain=[]\n",
    "listAccTest=[]\n",
    "seuil=0.8\n",
    "seuils=[]\n",
    "\n",
    "for j in range (7):\n",
    "    for i in range(len(correlationMatrix.columns)):\n",
    "        for j in range(i):\n",
    "            if abs(correlationMatrix.iloc[i,j])>=seuil:\n",
    "                colname=correlationMatrix.columns[i]\n",
    "                correlated_features.add(colname)\n",
    "        \n",
    "\n",
    "    #print(correlated_features)\n",
    "    correlated_features.pop()\n",
    "    print(\"seuil : \")\n",
    "    print(seuil)\n",
    "    print(\"correlated features : \",correlated_features)\n",
    "    print(\"\\n\")\n",
    "    votes2=votes\n",
    "    #remove correlated features\n",
    "    ii=0\n",
    "    for n in correlated_features :\n",
    "        votes2=votes2.drop(n,axis=1)\n",
    "        ii+=1\n",
    "    \n",
    "    size=16-ii\n",
    "    X2=votes2.values[:,1:size]\n",
    "    Y2=votes2.values[:,0]\n",
    "    X_train2, X_test2, y_train2, y_test2 = train_test_split(X2, Y2, test_size=0.2, random_state=0)\n",
    "    \n",
    "    model2 = DecisionTreeClassifier(criterion =\"entropy\", max_depth=25 , splitter=\"best\" , min_impurity_split=0.1 )\n",
    "    model2.fit(X_train2, y_train2)\n",
    "    y_train_pred = model2.predict(X_train2)\n",
    "    h = model2.predict(X_test2)\n",
    "    \n",
    "    seuils.append(seuil)\n",
    "    listAccTrain.append(accuracy_score(y_train2,y_train_pred))\n",
    "    listAccTest.append( accuracy_score(y_test2,h) )\n",
    "    seuil-=0.1\n",
    "\n",
    "print(\"les seuils :\")\n",
    "print(seuils)\n",
    "print(\"\\n\")\n",
    "print(\"Train Accuracies \")\n",
    "print(listAccTrain)\n",
    "print(\"\\n\")\n",
    "print(\"Test Accuracies \")\n",
    "print(listAccTest)\n",
    "\n"
   ]
  },
  {
   "cell_type": "code",
   "execution_count": 9,
   "metadata": {},
   "outputs": [
    {
     "data": {
      "text/plain": [
       "<matplotlib.collections.PathCollection at 0xb93cac8>"
      ]
     },
     "execution_count": 9,
     "metadata": {},
     "output_type": "execute_result"
    },
    {
     "data": {
      "image/png": "[encoded data removed]",
      "text/plain": [
       "<Figure size 432x288 with 1 Axes>"
      ]
     },
     "metadata": {
      "needs_background": "light"
     },
     "output_type": "display_data"
    }
   ],
   "source": [
    "listAccTrain = np.asarray(listAccTrain)\n",
    "seuils = np.asarray(seuils)\n",
    "\n",
    "listAccTrain = listAccTrain[:,np.newaxis]\n",
    "seuils = seuils[:,np.newaxis]\n",
    "plt.title(\"changment du Train accurancy en fonction du seuil de correlation  \\n \",fontsize=10)\n",
    "plt.scatter(seuils,listAccTrain)"
   ]
  },
  {
   "cell_type": "code",
   "execution_count": 10,
   "metadata": {},
   "outputs": [
    {
     "data": {
      "text/plain": [
       "<matplotlib.collections.PathCollection at 0xb9a4f98>"
      ]
     },
     "execution_count": 10,
     "metadata": {},
     "output_type": "execute_result"
    },
    {
     "data": {
      "image/png": "[encoded data removed]",
      "text/plain": [
       "<Figure size 432x288 with 1 Axes>"
      ]
     },
     "metadata": {
      "needs_background": "light"
     },
     "output_type": "display_data"
    }
   ],
   "source": [
    "listAccTest = np.asarray(listAccTest)\n",
    "\n",
    "listAccTest = listAccTest[:,np.newaxis]\n",
    "plt.title(\"changment du Test accurancy en fonction du seuil de correlation  \\n \",fontsize=10)\n",
    "plt.scatter(seuils,listAccTest)"
   ]
  },
  {
   "cell_type": "markdown",
   "metadata": {},
   "source": [
    "# 2.Wrapper Feature Selection"
   ]
  },
  {
   "cell_type": "markdown",
   "metadata": {},
   "source": [
    "## 2.1.Exhaustive Feature Selection"
   ]
  },
  {
   "cell_type": "code",
   "execution_count": 11,
   "metadata": {},
   "outputs": [
    {
     "name": "stderr",
     "output_type": "stream",
     "text": [
      "Features: 32767/32767"
     ]
    },
    {
     "name": "stdout",
     "output_type": "stream",
     "text": [
      "Best accuracy score: 0.98\n",
      "index of best features: (0, 3, 10, 12)\n",
      "best features : ['cn', 'abr', 'immgr', 'eduspen']\n"
     ]
    }
   ],
   "source": [
    "from sklearn.neighbors import KNeighborsClassifier\n",
    "from mlxtend.feature_selection import ExhaustiveFeatureSelector as EFS\n",
    "\n",
    "X=votes.values[:,1:16]\n",
    "Y=votes.values[:,0]\n",
    "X_train, X_test, y_train, y_test = train_test_split(X, Y, test_size=0.2, random_state=0) \n",
    "model = KNeighborsClassifier(n_neighbors=3)\n",
    "efs = EFS(model, \n",
    "           min_features=1,\n",
    "           max_features=X_train.shape[1],\n",
    "           scoring='accuracy',\n",
    "           print_progress=True,\n",
    "           cv=5)\n",
    "\n",
    "efs = efs.fit(X_train, y_train)\n",
    "print('Best accuracy score: %.2f' % efs.best_score_)\n",
    "print('index of best features:', efs.best_idx_)\n",
    "bestFeaturesNames=[]\n",
    "for a in efs.best_idx_:\n",
    "    bestFeaturesNames.append(header[a])\n",
    "print(\"best features :\",bestFeaturesNames)\n"
   ]
  },
  {
   "cell_type": "code",
   "execution_count": 12,
   "metadata": {},
   "outputs": [
    {
     "name": "stdout",
     "output_type": "stream",
     "text": [
      "Train Accuracy is  85.94594594594595\n",
      "Test Accuracy is  87.2340425531915\n"
     ]
    },
    {
     "name": "stderr",
     "output_type": "stream",
     "text": [
      "C:\\Users\\Ryad\\Anaconda3\\lib\\site-packages\\sklearn\\tree\\tree.py:283: DeprecationWarning: The min_impurity_split parameter is deprecated. Its default value will change from 1e-7 to 0 in version 0.23, and it will be removed in 0.25. Use the min_impurity_decrease parameter instead.\n",
      "  DeprecationWarning)\n"
     ]
    }
   ],
   "source": [
    "\n",
    "# test de precision apres la selection d attributs\n",
    "votes3=votes\n",
    "for n in header:\n",
    "    if n not in bestFeaturesNames:\n",
    "        votes3=votes3.drop(n,axis=1)\n",
    "\n",
    "X=votes3.values[:,1:len(bestFeaturesNames)]\n",
    "Y=votes3.values[:,0]\n",
    "X_train, X_test, y_train, y_test = train_test_split(X, Y, test_size=0.2, random_state=0) \n",
    "\n",
    "model = DecisionTreeClassifier(criterion =\"entropy\", max_depth=15 , splitter=\"best\" , min_impurity_split=0.1 )\n",
    "model.fit(X_train, y_train)\n",
    "y_train_pred = model.predict(X_train)\n",
    "h = model.predict(X_test)\n",
    "    \n",
    "print(\"Train Accuracy is \", accuracy_score(y_train,y_train_pred)*100)\n",
    "print(\"Test Accuracy is \", accuracy_score(y_test,h)*100)"
   ]
  }
 ],
 "metadata": {
  "kernelspec": {
   "display_name": "Python 3",
   "language": "python",
   "name": "python3"
  },
  "language_info": {
   "codemirror_mode": {
    "name": "ipython",
    "version": 3
   },
   "file_extension": ".py",
   "mimetype": "text/x-python",
   "name": "python",
   "nbconvert_exporter": "python",
   "pygments_lexer": "ipython3",
   "version": "3.7.1"
  }
 },
 "nbformat": 4,
 "nbformat_minor": 2
}
